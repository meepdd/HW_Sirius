{
 "cells": [
  {
   "cell_type": "markdown",
   "id": "a7e46d00",
   "metadata": {},
   "source": [
    "Задача: перевести римские цифры в арабские. На вход дается значение в формате \"римского исчисления\" \n",
    "\n",
    "Пример: \n",
    "\n",
    "Input: X\n",
    "\n",
    "Output: 10"
   ]
  },
  {
   "cell_type": "code",
   "execution_count": 15,
   "id": "eae8ad68",
   "metadata": {},
   "outputs": [],
   "source": [
    "def translate(roman_num):\n",
    "    table = {'I': 1, 'V': 5, 'X': 10, 'L': 50, 'C': 100, 'D': 500, 'M': 1000} #вводим значения из римского исчисления\n",
    "    res = 0 #создаем переменную, где будем хранить значения в последующем\n",
    "    for i in range(0, len(roman_num)): \n",
    "        #функция, ко-я сравнивает значения из списка/таблицы и далее производит фун-ю суммирования\n",
    "        if i == 0 or table[roman_num[i]] <= table[roman_num[i - 1]]:\n",
    "            res += table[roman_num[i]]\n",
    "        else:\n",
    "            res += table[roman_num[i]] - 2 * table[roman_num[i - 1]]\n",
    "    return res \n",
    "#возвращает значение итого\n",
    "   "
   ]
  },
  {
   "cell_type": "markdown",
   "id": "782da709",
   "metadata": {},
   "source": [
    "Функция написана, теперь можно вводить строчные значения и получать Output :)"
   ]
  },
  {
   "cell_type": "code",
   "execution_count": 16,
   "id": "da83237b",
   "metadata": {},
   "outputs": [
    {
     "name": "stdout",
     "output_type": "stream",
     "text": [
      "XXVI\n",
      "В арабских цифрах: 26\n"
     ]
    }
   ],
   "source": [
    "roman = str(input())\n",
    "number_output = translate(roman)\n",
    "print('В арабских цифрах: {1}'.format(roman, number_output))"
   ]
  }
 ],
 "metadata": {
  "kernelspec": {
   "display_name": "Python 3 (ipykernel)",
   "language": "python",
   "name": "python3"
  },
  "language_info": {
   "codemirror_mode": {
    "name": "ipython",
    "version": 3
   },
   "file_extension": ".py",
   "mimetype": "text/x-python",
   "name": "python",
   "nbconvert_exporter": "python",
   "pygments_lexer": "ipython3",
   "version": "3.9.10"
  }
 },
 "nbformat": 4,
 "nbformat_minor": 5
}
